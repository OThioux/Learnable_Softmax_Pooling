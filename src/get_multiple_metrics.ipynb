{
 "cells": [
  {
   "cell_type": "code",
   "execution_count": 1,
   "id": "initial_id",
   "metadata": {
    "collapsed": true,
    "ExecuteTime": {
     "end_time": "2025-07-28T11:35:42.721099Z",
     "start_time": "2025-07-28T11:35:37.304262Z"
    }
   },
   "outputs": [
    {
     "name": "stderr",
     "output_type": "stream",
     "text": [
      "2025-07-28 13:35:37.708817: I tensorflow/core/platform/cpu_feature_guard.cc:193] This TensorFlow binary is optimized with oneAPI Deep Neural Network Library (oneDNN) to use the following CPU instructions in performance-critical operations:  AVX2 FMA\n",
      "To enable them in other operations, rebuild TensorFlow with the appropriate compiler flags.\n",
      "2025-07-28 13:35:39.896905: W tensorflow/compiler/xla/stream_executor/platform/default/dso_loader.cc:64] Could not load dynamic library 'libnvinfer.so.7'; dlerror: libnvinfer.so.7: cannot open shared object file: No such file or directory; LD_LIBRARY_PATH: /home/odilon/.local/lib/python3.10/site-packages/cv2/../../lib64:\n",
      "2025-07-28 13:35:39.897110: W tensorflow/compiler/xla/stream_executor/platform/default/dso_loader.cc:64] Could not load dynamic library 'libnvinfer_plugin.so.7'; dlerror: libnvinfer_plugin.so.7: cannot open shared object file: No such file or directory; LD_LIBRARY_PATH: /home/odilon/.local/lib/python3.10/site-packages/cv2/../../lib64:\n",
      "2025-07-28 13:35:39.897121: W tensorflow/compiler/tf2tensorrt/utils/py_utils.cc:38] TF-TRT Warning: Cannot dlopen some TensorRT libraries. If you would like to use Nvidia GPU with TensorRT, please make sure the missing libraries mentioned above are installed properly.\n"
     ]
    }
   ],
   "source": [
    "import numpy as np\n",
    "import math\n",
    "from SCL.src.utils import calculate_metrics, calculate_metrics_new"
   ]
  },
  {
   "cell_type": "code",
   "outputs": [],
   "source": [
    "threshold = 0.5"
   ],
   "metadata": {
    "collapsed": false,
    "ExecuteTime": {
     "end_time": "2025-07-28T11:35:42.726792Z",
     "start_time": "2025-07-28T11:35:42.722735Z"
    }
   },
   "id": "8edf4e3c27b9ce52",
   "execution_count": 2
  },
  {
   "cell_type": "code",
   "outputs": [],
   "source": [
    "pred_file_name = \"losses/multipleModels/model_mean_part_class_mult_predictions.npy\"\n",
    "# pred_file_name = \"losses/multipleModels/model_mean_part_class_mult_predictions.npy\"\n",
    "class_file_name = pred_file_name[:-15] + \"cce_loss.npy\"\n",
    "sal_file_name = pred_file_name[:-15] + \"sal_loss.npy\""
   ],
   "metadata": {
    "collapsed": false,
    "ExecuteTime": {
     "end_time": "2025-07-28T11:35:42.734956Z",
     "start_time": "2025-07-28T11:35:42.730565Z"
    }
   },
   "id": "e08acc5ae8132d7c",
   "execution_count": 3
  },
  {
   "cell_type": "code",
   "outputs": [
    {
     "data": {
      "text/plain": "'losses/multipleModels/model_mean_part_class_mult_cce_loss.npy'"
     },
     "execution_count": 4,
     "metadata": {},
     "output_type": "execute_result"
    }
   ],
   "source": [
    "class_file_name"
   ],
   "metadata": {
    "collapsed": false,
    "ExecuteTime": {
     "end_time": "2025-07-28T11:35:42.744737Z",
     "start_time": "2025-07-28T11:35:42.736340Z"
    }
   },
   "id": "5c47be070b00aa1",
   "execution_count": 4
  },
  {
   "cell_type": "code",
   "outputs": [],
   "source": [
    "pred = np.load(pred_file_name)\n",
    "cls = np.load(class_file_name)\n",
    "sal = np.load(sal_file_name)"
   ],
   "metadata": {
    "collapsed": false,
    "ExecuteTime": {
     "end_time": "2025-07-28T11:35:42.762733Z",
     "start_time": "2025-07-28T11:35:42.748344Z"
    }
   },
   "id": "571e0db159e286b8",
   "execution_count": 5
  },
  {
   "cell_type": "code",
   "outputs": [
    {
     "name": "stdout",
     "output_type": "stream",
     "text": [
      "(5, 75, 75, 20, 2)\n",
      "(5, 75)\n"
     ]
    }
   ],
   "source": [
    "print(pred.shape)\n",
    "print(cls.shape)"
   ],
   "metadata": {
    "collapsed": false,
    "ExecuteTime": {
     "end_time": "2025-07-28T11:35:42.767590Z",
     "start_time": "2025-07-28T11:35:42.764133Z"
    }
   },
   "id": "d107e1841121e5e",
   "execution_count": 6
  },
  {
   "cell_type": "code",
   "outputs": [],
   "source": [
    "def round_sig(x, sig):\n",
    "    return round(x, sig - int(math.floor(math.log10(abs(x)))) - 1)"
   ],
   "metadata": {
    "collapsed": false,
    "ExecuteTime": {
     "end_time": "2025-07-28T11:35:42.771785Z",
     "start_time": "2025-07-28T11:35:42.768786Z"
    }
   },
   "id": "9da4c317f14a02a",
   "execution_count": 7
  },
  {
   "cell_type": "code",
   "outputs": [],
   "source": [
    "def get_metric_dict(pred, cls, sal):\n",
    "    best_metrics_dict = {\"classification loss\": [], \"saliency loss\": [], \"best epoch\": []}\n",
    "\n",
    "    for idx in range(pred.shape[0]):\n",
    "        epoch = np.argmin(cls[idx])\n",
    "        metrics = calculate_metrics_new(pred[idx])\n",
    "        for key in metrics.keys():\n",
    "            new_key = key\n",
    "            if new_key not in best_metrics_dict:\n",
    "                best_metrics_dict[new_key] = []\n",
    "            best_metrics_dict[new_key].append(metrics[key][epoch])\n",
    "        best_metrics_dict[\"classification loss\"].append(cls[idx][epoch])\n",
    "        best_metrics_dict[\"saliency loss\"].append(sal[idx][epoch])\n",
    "        best_metrics_dict[\"best epoch\"].append(epoch)\n",
    "    \n",
    "    mean_metrics_dict = {}\n",
    "    \n",
    "    for key in best_metrics_dict.keys():\n",
    "        mean_metrics_dict[key] = np.mean(best_metrics_dict[key]), np.std(best_metrics_dict[key])\n",
    "    \n",
    "    return mean_metrics_dict"
   ],
   "metadata": {
    "collapsed": false,
    "ExecuteTime": {
     "end_time": "2025-07-28T11:35:42.784543Z",
     "start_time": "2025-07-28T11:35:42.773158Z"
    }
   },
   "id": "40d8fa14f5624e6a",
   "execution_count": 8
  },
  {
   "cell_type": "code",
   "outputs": [
    {
     "name": "stdout",
     "output_type": "stream",
     "text": [
      "classification loss : 0.107 +- 0.00236\n",
      "saliency loss : 0.163 +- 0.00454\n",
      "best epoch : 69.6 +- 2.94\n",
      "accuracy : 0.961 +- 0.000998\n",
      "f1 : 0.585 +- 0.0301\n",
      "AUROC : 0.96 +- 0.00373\n",
      "mAP : 0.817 +- 0.0179\n"
     ]
    }
   ],
   "source": [
    "for key, tup in get_metric_dict(pred, cls, sal).items():\n",
    "    if key in [\"precision\", \"recall\"]:\n",
    "        continue\n",
    "    print(key, \":\", round_sig(tup[0], 3), \"+-\", round_sig(tup[1], 3))"
   ],
   "metadata": {
    "collapsed": false,
    "ExecuteTime": {
     "end_time": "2025-07-28T11:35:49.213674Z",
     "start_time": "2025-07-28T11:35:42.785925Z"
    }
   },
   "id": "bf9a5e7554e5a34b",
   "execution_count": 9
  },
  {
   "cell_type": "code",
   "outputs": [],
   "source": [
    "a = np.load(\"losses/multipleModels/model_softmax_part_schedule_0.01_mult_predictions.npy\")\n",
    "del a"
   ],
   "metadata": {
    "collapsed": false,
    "ExecuteTime": {
     "end_time": "2025-07-28T11:35:49.229232Z",
     "start_time": "2025-07-28T11:35:49.215247Z"
    }
   },
   "id": "a79ee1ae52b00546",
   "execution_count": 10
  },
  {
   "cell_type": "code",
   "outputs": [
    {
     "data": {
      "text/plain": "['0.25', '0.5', '0.75', '0.95']"
     },
     "execution_count": 11,
     "metadata": {},
     "output_type": "execute_result"
    }
   ],
   "source": [
    "list(reversed([\"0.95\", \"0.75\", \"0.5\", \"0.25\"]))"
   ],
   "metadata": {
    "collapsed": false,
    "ExecuteTime": {
     "end_time": "2025-07-28T11:35:49.237007Z",
     "start_time": "2025-07-28T11:35:49.230779Z"
    }
   },
   "id": "56d47f517b09380",
   "execution_count": 11
  },
  {
   "cell_type": "code",
   "outputs": [],
   "source": [
    "extensions = [\"Mean\", \"Softmax\", \"Max Saliency\", \"Scheduled softmax\"]\n",
    "file_names = [f\"losses/multipleModels/model_mean_part_class_mult_predictions.npy\", \"losses/multipleModels/model_softmax_part_class_ibeta_100_mult_predictions.npy\", \"losses/multipleModels/model_max_part_sal_mult_predictions.npy\", \"losses/multipleModels/model_softmax_part_schedule_0.01_mult_predictions.npy\"]\n",
    "# file_names = [\"losses/\"]\n",
    "# extensions = [\"softmax pooling\", \"mean pooling\"]\n",
    "# file_names = [\"losses/multipleModels/model_softmax_part_schedule_0.01_mult_predictions.npy\", \"losses/multipleModels/model_mean_part_schedule_0.01_mult_predictions.npy\"]\n",
    "# file_names.append(\"losses/multipleModels/model_softmax_part_class_ibeta_100_mult_predictions.npy\")\n",
    "# extensions.append(\"0.0\")"
   ],
   "metadata": {
    "collapsed": false,
    "ExecuteTime": {
     "end_time": "2025-07-28T15:28:18.001371Z",
     "start_time": "2025-07-28T15:28:17.997748Z"
    }
   },
   "id": "fbf29fc14c160956",
   "execution_count": 23
  },
  {
   "cell_type": "code",
   "outputs": [],
   "source": [],
   "metadata": {
    "collapsed": false,
    "ExecuteTime": {
     "end_time": "2025-07-28T15:28:18.008624Z",
     "start_time": "2025-07-28T15:28:18.006395Z"
    }
   },
   "id": "c1d49bc40dc796a8",
   "execution_count": 23
  },
  {
   "cell_type": "code",
   "outputs": [],
   "source": [
    "dict_li = []\n",
    "for pred_file_name in file_names:\n",
    "    class_file_name = pred_file_name[:-15] + \"cce_loss.npy\"\n",
    "    sal_file_name = pred_file_name[:-15] + \"sal_loss.npy\"\n",
    "    pred = np.load(pred_file_name)\n",
    "    cls = np.load(class_file_name)\n",
    "    sal = np.load(sal_file_name)\n",
    "    dict_li.append(get_metric_dict(pred, cls, sal))\n",
    "    "
   ],
   "metadata": {
    "collapsed": false,
    "ExecuteTime": {
     "end_time": "2025-07-28T15:28:40.121027Z",
     "start_time": "2025-07-28T15:28:18.011754Z"
    }
   },
   "id": "66d1b27ec988173e",
   "execution_count": 24
  },
  {
   "cell_type": "code",
   "outputs": [],
   "source": [
    "tables = [key for key in dict_li[0].keys() if key not in [\"precision\", \"recall\"]]"
   ],
   "metadata": {
    "collapsed": false,
    "ExecuteTime": {
     "end_time": "2025-07-28T15:28:40.126728Z",
     "start_time": "2025-07-28T15:28:40.122424Z"
    }
   },
   "id": "2560e2d15a5ee675",
   "execution_count": 25
  },
  {
   "cell_type": "code",
   "outputs": [],
   "source": [
    "param_string = \"Model\" # \"$\\\\beta$ LR factor\"\n",
    "caption_string = \"different pooling layer\"\n",
    "label_string = \"pool_\""
   ],
   "metadata": {
    "collapsed": false,
    "ExecuteTime": {
     "end_time": "2025-07-28T15:28:40.131709Z",
     "start_time": "2025-07-28T15:28:40.128789Z"
    }
   },
   "id": "7d64608f1084c660",
   "execution_count": 26
  },
  {
   "cell_type": "code",
   "outputs": [
    {
     "name": "stdout",
     "output_type": "stream",
     "text": [
      "\n",
      "\n",
      "classification loss\n",
      "\n",
      "\\begin{tabular}{p{1,5cm}p{2,5cm}l}\n",
      "\\toprule\n",
      "\\textbf{Model} & \\textbf{classification loss} & \\textbf{STD} \\\\ \n",
      "\\midrule\n",
      "Mean & 0.107 & 0.00236  \\\\ \n",
      "Softmax & 0.0983 & 0.00514  \\\\ \n",
      "Max Saliency & 0.142 & 0.00691  \\\\ \n",
      "Scheduled softmax & 0.106 & 0.00332  \\\\ \n",
      "\\bottomrule\n",
      "\\end{tabular}\n",
      "\\caption{Table of the classification loss metric at the epoch with the lowest classification loss for each model of different pooling layer.}\n",
      "\\label{tab:pool_classification_loss}\n",
      "\n",
      "\n",
      "saliency loss\n",
      "\n",
      "\\begin{tabular}{p{1,5cm}p{2,5cm}l}\n",
      "\\toprule\n",
      "\\textbf{Model} & \\textbf{saliency loss} & \\textbf{STD} \\\\ \n",
      "\\midrule\n",
      "Mean & 0.163 & 0.00454  \\\\ \n",
      "Softmax & 0.127 & 0.00632  \\\\ \n",
      "Max Saliency & 0.0566 & 0.00232  \\\\ \n",
      "Scheduled softmax & 0.0596 & 0.00324  \\\\ \n",
      "\\bottomrule\n",
      "\\end{tabular}\n",
      "\\caption{Table of the saliency loss metric at the epoch with the lowest classification loss for each model of different pooling layer.}\n",
      "\\label{tab:pool_saliency_loss}\n",
      "\n",
      "\n",
      "best epoch\n",
      "\n",
      "\\begin{tabular}{p{1,5cm}p{2,5cm}l}\n",
      "\\toprule\n",
      "\\textbf{Model} & \\textbf{best epoch} & \\textbf{STD} \\\\ \n",
      "\\midrule\n",
      "Mean & 69.6 & 2.94  \\\\ \n",
      "Softmax & 56.8 & 8.66  \\\\ \n",
      "Max Saliency & 66.4 & 3.88  \\\\ \n",
      "Scheduled softmax & 43.8 & 3.31  \\\\ \n",
      "\\bottomrule\n",
      "\\end{tabular}\n",
      "\\caption{Table of the best epoch metric at the epoch with the lowest classification loss for each model of different pooling layer.}\n",
      "\\label{tab:pool_best_epoch}\n",
      "\n",
      "\n",
      "accuracy\n",
      "\n",
      "\\begin{tabular}{p{1,5cm}p{2,5cm}l}\n",
      "\\toprule\n",
      "\\textbf{Model} & \\textbf{accuracy} & \\textbf{STD} \\\\ \n",
      "\\midrule\n",
      "Mean & 0.961 & 0.000998  \\\\ \n",
      "Softmax & 0.963 & 0.00248  \\\\ \n",
      "Max Saliency & 0.959 & 0.00208  \\\\ \n",
      "Scheduled softmax & 0.971 & 0.00268  \\\\ \n",
      "\\bottomrule\n",
      "\\end{tabular}\n",
      "\\caption{Table of the accuracy metric at the epoch with the lowest classification loss for each model of different pooling layer.}\n",
      "\\label{tab:pool_accuracy}\n",
      "\n",
      "\n",
      "f1\n",
      "\n",
      "\\begin{tabular}{p{1,5cm}p{2,5cm}l}\n",
      "\\toprule\n",
      "\\textbf{Model} & \\textbf{f1} & \\textbf{STD} \\\\ \n",
      "\\midrule\n",
      "Mean & 0.585 & 0.0301  \\\\ \n",
      "Softmax & 0.711 & 0.036  \\\\ \n",
      "Max Saliency & 0.695 & 0.0129  \\\\ \n",
      "Scheduled softmax & 0.721 & 0.0162  \\\\ \n",
      "\\bottomrule\n",
      "\\end{tabular}\n",
      "\\caption{Table of the f1 metric at the epoch with the lowest classification loss for each model of different pooling layer.}\n",
      "\\label{tab:pool_f1}\n",
      "\n",
      "\n",
      "AUROC\n",
      "\n",
      "\\begin{tabular}{p{1,5cm}p{2,5cm}l}\n",
      "\\toprule\n",
      "\\textbf{Model} & \\textbf{AUROC} & \\textbf{STD} \\\\ \n",
      "\\midrule\n",
      "Mean & 0.96 & 0.00373  \\\\ \n",
      "Softmax & 0.963 & 0.0087  \\\\ \n",
      "Max Saliency & 0.942 & 0.0114  \\\\ \n",
      "Scheduled softmax & 0.954 & 0.00372  \\\\ \n",
      "\\bottomrule\n",
      "\\end{tabular}\n",
      "\\caption{Table of the AUROC metric at the epoch with the lowest classification loss for each model of different pooling layer.}\n",
      "\\label{tab:pool_AUROC}\n",
      "\n",
      "\n",
      "mAP\n",
      "\n",
      "\\begin{tabular}{p{1,5cm}p{2,5cm}l}\n",
      "\\toprule\n",
      "\\textbf{Model} & \\textbf{mAP} & \\textbf{STD} \\\\ \n",
      "\\midrule\n",
      "Mean & 0.817 & 0.0179  \\\\ \n",
      "Softmax & 0.834 & 0.0283  \\\\ \n",
      "Max Saliency & 0.813 & 0.0143  \\\\ \n",
      "Scheduled softmax & 0.826 & 0.0123  \\\\ \n",
      "\\bottomrule\n",
      "\\end{tabular}\n",
      "\\caption{Table of the mAP metric at the epoch with the lowest classification loss for each model of different pooling layer.}\n",
      "\\label{tab:pool_mAP}\n"
     ]
    }
   ],
   "source": [
    "for table in tables:\n",
    "    print(f\"\\n\\n{table}\\n\")\n",
    "    print(f\"\\\\begin{{tabular}}{{p{{1,5cm}}p{{2,5cm}}l}}\\n\\\\toprule\\n\\\\textbf{{{param_string}}} & \\\\textbf{{{table}}} & \\\\textbf{{STD}} \\\\\\\\ \\n\\\\midrule\")\n",
    "    # print(table)\n",
    "    # print(\"---------------------------------------------------\")\n",
    "    for ext, metric_dict in zip(extensions, dict_li):\n",
    "        print(ext, round_sig(metric_dict[table][0], 3), round_sig(metric_dict[table][1], 3), sep=\" & \", end=\"  \\\\\\\\ \\n\")\n",
    "    # print(\"---------------------------------------------------\")\n",
    "    print(\"\\\\bottomrule\\n\\\\end{tabular}\")\n",
    "    print(f\"\\\\caption{{Table of the {table} metric at the epoch with the lowest classification loss for each model of {caption_string}.}}\")\n",
    "    print(\"\\\\label{tab:\" + label_string + f\"{table.replace(' ', '_')}}}\")"
   ],
   "metadata": {
    "collapsed": false,
    "ExecuteTime": {
     "end_time": "2025-07-28T15:28:40.139081Z",
     "start_time": "2025-07-28T15:28:40.133604Z"
    }
   },
   "id": "78df63f36916616c",
   "execution_count": 27
  }
 ],
 "metadata": {
  "kernelspec": {
   "display_name": "Python 3",
   "language": "python",
   "name": "python3"
  },
  "language_info": {
   "codemirror_mode": {
    "name": "ipython",
    "version": 2
   },
   "file_extension": ".py",
   "mimetype": "text/x-python",
   "name": "python",
   "nbconvert_exporter": "python",
   "pygments_lexer": "ipython2",
   "version": "2.7.6"
  }
 },
 "nbformat": 4,
 "nbformat_minor": 5
}
